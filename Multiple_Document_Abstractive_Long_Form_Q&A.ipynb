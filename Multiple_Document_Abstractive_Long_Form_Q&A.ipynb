{
  "cells": [
    {
      "cell_type": "markdown",
      "metadata": {
        "id": "view-in-github",
        "colab_type": "text"
      },
      "source": [
        "<a href=\"https://colab.research.google.com/github/adimis-ai/Multiple-Document-Abstractive-Long-Form-Q-A/blob/main/Multiple_Document_Abstractive_Long_Form_Q%26A.ipynb\" target=\"_parent\"><img src=\"https://colab.research.google.com/assets/colab-badge.svg\" alt=\"Open In Colab\"/></a>"
      ]
    },
    {
      "cell_type": "code",
      "execution_count": null,
      "metadata": {
        "id": "7nv39h2h9Zyu",
        "colab": {
          "base_uri": "https://localhost:8080/"
        },
        "outputId": "dd5f726e-1ca7-48cc-cea9-b2772a35d151"
      },
      "outputs": [
        {
          "output_type": "stream",
          "name": "stdout",
          "text": [
            "Mounted at /content/gdrive/\n"
          ]
        }
      ],
      "source": [
        "from google.colab import drive\n",
        "drive.mount('/content/gdrive/', force_remount=True)"
      ]
    },
    {
      "cell_type": "code",
      "execution_count": null,
      "metadata": {
        "id": "H21CXw5OR_Mh"
      },
      "outputs": [],
      "source": [
        "%%bash\n",
        "\n",
        "pip install --upgrade pip\n",
        "pip install git+https://github.com/deepset-ai/haystack.git#egg=farm-haystack[colab,faiss]"
      ]
    },
    {
      "cell_type": "code",
      "execution_count": null,
      "metadata": {
        "id": "gSQ8s18pTpWg"
      },
      "outputs": [],
      "source": [
        "# setup logs\n",
        "import logging\n",
        "\n",
        "logging.basicConfig(format=\"%(levelname)s - %(name)s -  %(message)s\", level=logging.WARNING)\n",
        "logging.getLogger(\"haystack\").setLevel(logging.INFO)"
      ]
    },
    {
      "cell_type": "code",
      "execution_count": null,
      "metadata": {
        "id": "v4o6np23TswG"
      },
      "outputs": [],
      "source": [
        "#import faiss document store and assign it to document_store variable\n",
        "from haystack.document_stores import FAISSDocumentStore\n",
        "\n",
        "document_store = FAISSDocumentStore(embedding_dim=128, faiss_index_factory_str=\"Flat\",return_embedding=True)"
      ]
    },
    {
      "cell_type": "code",
      "execution_count": null,
      "metadata": {
        "id": "pc-ODhnS--ym"
      },
      "outputs": [],
      "source": [
        "#imports for working with data\n",
        "from haystack.utils import convert_files_to_docs, clean_wiki_text\n",
        "\n",
        "# Let's first get some files that we want to use\n",
        "doc_dir = \"gdrive/MyDrive/wiki_gameofthrones_txt1/\"\n",
        "\n",
        "# Convert files to dicts\n",
        "docs = convert_files_to_docs(dir_path=doc_dir, clean_func=clean_wiki_text, split_paragraphs=True)\n",
        "\n",
        "# Now, let's write the dicts containing documents to our DB.\n",
        "document_store.write_documents(docs)"
      ]
    },
    {
      "cell_type": "code",
      "execution_count": null,
      "metadata": {
        "id": "zwDvmjK0TyKh"
      },
      "outputs": [],
      "source": [
        "#import dense passage retriever\n",
        "from haystack.nodes import DensePassageRetriever\n",
        "\n",
        "# retriever takes in query & convert it to dense vectors using pretrained model for generator\n",
        "# search & fetches relevant passage(context) from the document store & convert it to dense vectors using pretrained model for generator\n",
        "retriever = DensePassageRetriever(\n",
        "    document_store=document_store,\n",
        "    query_embedding_model=\"vblagoje/dpr-question_encoder-single-lfqa-wiki\",\n",
        "    passage_embedding_model=\"vblagoje/dpr-ctx_encoder-single-lfqa-wiki\",\n",
        ")\n",
        "\n",
        "document_store.update_embeddings(retriever)"
      ]
    },
    {
      "cell_type": "code",
      "execution_count": null,
      "metadata": {
        "id": "kRp8t6WIT3MT"
      },
      "outputs": [],
      "source": [
        "# we now initalize our reader/generator.\n",
        "from haystack.nodes import Seq2SeqGenerator\n",
        "\n",
        "# Here we use a Seq2SeqGenerator with the vblagoje/bart_lfqa model\n",
        "generator = Seq2SeqGenerator(model_name_or_path=\"vblagoje/bart_lfqa\")"
      ]
    },
    {
      "cell_type": "code",
      "execution_count": null,
      "metadata": {
        "id": "jWEh5xc0T429"
      },
      "outputs": [],
      "source": [
        "# With a Haystack Pipeline you can stick together your building blocks to a search pipeline.\n",
        "# Under the hood, Pipelines are Directed Acyclic Graphs (DAGs) that you can easily customize for your own use cases\n",
        "from haystack.pipelines import GenerativeQAPipeline\n",
        "\n",
        "#GenerativeQAPipeline that combines a retriever and a reader/generator to answer our questions.\n",
        "pipe = GenerativeQAPipeline(generator, retriever)"
      ]
    },
    {
      "cell_type": "code",
      "source": [
        "from haystack.utils import print_answers\n",
        "\n",
        "def ans(QUERY):\n",
        "  output = pipe.run(query=QUERY, params={\"Retriever\": {\"top_k\": 3}})\n",
        "  cleaned_output = print_answers(output, details=\"minimum\")\n",
        "  return cleaned_output"
      ],
      "metadata": {
        "id": "OKZ-IBI_dkt8"
      },
      "execution_count": null,
      "outputs": []
    },
    {
      "cell_type": "code",
      "source": [
        "Question = input()\n",
        "Answer = ans(Question)"
      ],
      "metadata": {
        "id": "0DqrI68w-PPG"
      },
      "execution_count": null,
      "outputs": []
    }
  ],
  "metadata": {
    "colab": {
      "provenance": [],
      "include_colab_link": true
    },
    "kernelspec": {
      "display_name": "Python 3",
      "name": "python3"
    },
    "language_info": {
      "name": "python"
    }
  },
  "nbformat": 4,
  "nbformat_minor": 0
}